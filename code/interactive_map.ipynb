{
 "cells": [
  {
   "cell_type": "code",
   "execution_count": null,
   "metadata": {},
   "outputs": [],
   "source": [
    "import pandas as pd\n",
    "import requests as r\n",
    "import numpy as np\n",
    "import json\n",
    "import plotly.graph_objects as go"
   ]
  },
  {
   "cell_type": "code",
   "execution_count": null,
   "metadata": {},
   "outputs": [],
   "source": [
    "# Getting the dataframe with APL data\n",
    "apl=pd.read_csv('../data/medical_desert_clean.csv') \n",
    "\n",
    "geo_apl = apl[['CODGEO','Communes','APL']]\n",
    "geo_apl = geo_apl.rename(columns={'CODGEO':'insee_com'})\n",
    "geo_apl.head()"
   ]
  },
  {
   "cell_type": "code",
   "execution_count": null,
   "metadata": {},
   "outputs": [],
   "source": [
    "# Getting geojson for every cities in France\n",
    "url_geo=\"https://data.opendatasoft.com/api/v2/opendatasoft/datasets/correspondance-code-insee-code-postal%40public/exports/geojson?rows=-1&timezone=UTC&pretty=false\"\n",
    "\n",
    "geojson=r.get(url_geo).json() \n",
    "geojson"
   ]
  },
  {
   "cell_type": "code",
   "execution_count": null,
   "metadata": {},
   "outputs": [],
   "source": [
    "# Getting a reduced dataframe to iterate more rapidly on the map (because it takes time to run)\n",
    "\n",
    "# getting a geojson with onyl 10 rows\n",
    "sub_geo=\"https://data.opendatasoft.com/api/v2/opendatasoft/datasets/correspondance-code-insee-code-postal%40public/exports/geojson?rows=10&timezone=UTC&pretty=false\"\n",
    "\n",
    "sub_geojson=r.get(sub_geo).json() \n",
    "subjson = pd.json_normalize(sub_geojson['features'])\n",
    "\n",
    "# gettng the insee_com values from the request and filter the geo_apl dataframe\n",
    "val = subjson['properties.insee_com'].values\n",
    "sub_geo_apl = geo_apl[geo_apl.insee_com.isin(val)]\n"
   ]
  },
  {
   "cell_type": "code",
   "execution_count": null,
   "metadata": {},
   "outputs": [],
   "source": [
    "# Building the interactive map using Plotly\n",
    "fig = go.Figure(go.Choroplethmapbox(geojson=geojson, locations=geo_apl.insee_com, z=geo_apl.APL,\n",
    "                                    text=geo_apl.Communes,\n",
    "                                    featureidkey=\"properties.insee_com\",\n",
    "                                    colorscale=\"Viridis\", zmin=0, zmax=4.5,\n",
    "                                    marker_opacity=0.9, marker_line_width=0,\n",
    "                                    hoverinfo='text+z'))\n",
    "fig.update_layout(mapbox_style=\"carto-positron\",\n",
    "                  mapbox_zoom=5, mapbox_center = {\"lat\": 48.862725, \"lon\": 2.287592})\n",
    "fig.update_layout(margin={\"r\":0,\"t\":0,\"l\":0,\"b\":0})\n",
    "fig.write_html(\"interactive_map.html\")\n",
    "fig.show()"
   ]
  },
  {
   "cell_type": "code",
   "execution_count": null,
   "metadata": {},
   "outputs": [],
   "source": []
  }
 ],
 "metadata": {
  "kernelspec": {
   "display_name": "Python 3",
   "language": "python",
   "name": "python3"
  },
  "language_info": {
   "codemirror_mode": {
    "name": "ipython",
    "version": 3
   },
   "file_extension": ".py",
   "mimetype": "text/x-python",
   "name": "python",
   "nbconvert_exporter": "python",
   "pygments_lexer": "ipython3",
   "version": "3.7.4"
  }
 },
 "nbformat": 4,
 "nbformat_minor": 2
}
