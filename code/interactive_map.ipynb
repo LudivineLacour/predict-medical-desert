{
 "cells": [
  {
   "cell_type": "code",
   "execution_count": null,
   "metadata": {},
   "outputs": [],
   "source": [
    "import pandas as pd\n",
    "import requests as r\n",
    "import numpy as np\n",
    "import json\n",
    "import plotly.express as px"
   ]
  },
  {
   "cell_type": "code",
   "execution_count": null,
   "metadata": {},
   "outputs": [],
   "source": [
    "# Getting the dataframe with APL data\n",
    "apl=pd.read_csv('../data/medical_desert_clean.csv') \n",
    "\n",
    "geo_apl = apl[['CODGEO','APL']]\n",
    "geo_apl = geo_apl.rename(columns={'CODGEO':'insee_com'})\n",
    "geo_apl.head()"
   ]
  },
  {
   "cell_type": "code",
   "execution_count": null,
   "metadata": {},
   "outputs": [],
   "source": [
    "# Getting geojson for every cities in France\n",
    "url_geo=\"https://data.opendatasoft.com/api/v2/opendatasoft/datasets/correspondance-code-insee-code-postal%40public/exports/geojson?rows=-1&timezone=UTC&pretty=false\"\n",
    "\n",
    "geojson=r.get(url_geo).json() \n",
    "geojson"
   ]
  },
  {
   "cell_type": "code",
   "execution_count": null,
   "metadata": {},
   "outputs": [],
   "source": [
    "# Building the interactive map using Plotly\n",
    "\n",
    "fig = px.choropleth_mapbox(geo_apl, geojson=geojson, locations='insee_com', color='APL', \n",
    "                           featureidkey=\"properties.insee_com\",\n",
    "                           color_continuous_scale=\"Viridis\",\n",
    "                           range_color=(0, 12),\n",
    "                           mapbox_style=\"carto-positron\",\n",
    "                           zoom=3, center = {\"lat\": 48.862725, \"lon\": 2.287592},\n",
    "                           opacity=0.5,\n",
    "                           labels={'APL':'medical desert indicator'}\n",
    "                          )\n",
    "fig.update_layout(margin={\"r\":0,\"t\":0,\"l\":0,\"b\":0})\n",
    "fig.show()"
   ]
  },
  {
   "cell_type": "code",
   "execution_count": null,
   "metadata": {},
   "outputs": [],
   "source": []
  }
 ],
 "metadata": {
  "kernelspec": {
   "display_name": "Python 3",
   "language": "python",
   "name": "python3"
  },
  "language_info": {
   "codemirror_mode": {
    "name": "ipython",
    "version": 3
   },
   "file_extension": ".py",
   "mimetype": "text/x-python",
   "name": "python",
   "nbconvert_exporter": "python",
   "pygments_lexer": "ipython3",
   "version": "3.7.4"
  }
 },
 "nbformat": 4,
 "nbformat_minor": 2
}
