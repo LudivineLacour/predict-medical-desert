{
 "cells": [
  {
   "cell_type": "markdown",
   "metadata": {},
   "source": [
    "# Classification supervised learning \n",
    "\n",
    "**Goal:** Predict if a city would be considered as medical desert. \n",
    "\n",
    "For that we will do a binary classification with 0 = not medical desert and 1 = medical desert. To do so we'll use the threshold of DREES that is 2.5 for the APL (under 2.5, the city is considered as a medical desert). \n",
    "\n",
    "**Plan:**\n",
    "- Preprocessing data to make a proper classification\n",
    "- Build a function to run all models and get the model with the best accuracy and precision score \n",
    "- Iteration on the best model to improve the performance"
   ]
  },
  {
   "cell_type": "code",
   "execution_count": 1,
   "metadata": {},
   "outputs": [],
   "source": [
    "import pandas as pd\n",
    "import numpy as np \n",
    "\n",
    "pd.set_option('max_columns',30)"
   ]
  },
  {
   "cell_type": "code",
   "execution_count": 2,
   "metadata": {},
   "outputs": [
    {
     "name": "stdout",
     "output_type": "stream",
     "text": [
      "Shape: (34989, 26)\n"
     ]
    },
    {
     "data": {
      "text/html": [
       "<div>\n",
       "<style scoped>\n",
       "    .dataframe tbody tr th:only-of-type {\n",
       "        vertical-align: middle;\n",
       "    }\n",
       "\n",
       "    .dataframe tbody tr th {\n",
       "        vertical-align: top;\n",
       "    }\n",
       "\n",
       "    .dataframe thead th {\n",
       "        text-align: right;\n",
       "    }\n",
       "</style>\n",
       "<table border=\"1\" class=\"dataframe\">\n",
       "  <thead>\n",
       "    <tr style=\"text-align: right;\">\n",
       "      <th></th>\n",
       "      <th>CODGEO</th>\n",
       "      <th>Communes</th>\n",
       "      <th>APL</th>\n",
       "      <th>P16_POP</th>\n",
       "      <th>median_living_standard</th>\n",
       "      <th>healthcare_education_establishments</th>\n",
       "      <th>density_area</th>\n",
       "      <th>annual_pop_growth</th>\n",
       "      <th>unemployment_rate</th>\n",
       "      <th>secondary_residence_rate</th>\n",
       "      <th>vacant_residence_rate</th>\n",
       "      <th>active_local_business_rate</th>\n",
       "      <th>city_social_amenities_rate</th>\n",
       "      <th>0_14_pop_rate</th>\n",
       "      <th>15_59_pop_rate</th>\n",
       "      <th>60+_pop_rate</th>\n",
       "      <th>mobility_rate</th>\n",
       "      <th>average_birth_rate</th>\n",
       "      <th>CSP1_rate</th>\n",
       "      <th>CSP2_rate</th>\n",
       "      <th>CSP3_rate</th>\n",
       "      <th>CSP4_rate</th>\n",
       "      <th>CSP5_rate</th>\n",
       "      <th>CSP6_rate</th>\n",
       "      <th>CSP7_rate</th>\n",
       "      <th>CSP8_rate</th>\n",
       "    </tr>\n",
       "  </thead>\n",
       "  <tbody>\n",
       "    <tr>\n",
       "      <th>0</th>\n",
       "      <td>01001</td>\n",
       "      <td>L'Abergement-Clémenciat</td>\n",
       "      <td>2.396</td>\n",
       "      <td>767</td>\n",
       "      <td>22679.000000</td>\n",
       "      <td>0</td>\n",
       "      <td>48.087774</td>\n",
       "      <td>-0.335578</td>\n",
       "      <td>7.127430</td>\n",
       "      <td>4.597701</td>\n",
       "      <td>7.471264</td>\n",
       "      <td>48.000000</td>\n",
       "      <td>14.000000</td>\n",
       "      <td>20.990874</td>\n",
       "      <td>55.149935</td>\n",
       "      <td>23.859192</td>\n",
       "      <td>2.216428</td>\n",
       "      <td>1.060116</td>\n",
       "      <td>2.479339</td>\n",
       "      <td>3.305785</td>\n",
       "      <td>12.396694</td>\n",
       "      <td>15.702479</td>\n",
       "      <td>16.528926</td>\n",
       "      <td>20.661157</td>\n",
       "      <td>23.966942</td>\n",
       "      <td>4.958678</td>\n",
       "    </tr>\n",
       "    <tr>\n",
       "      <th>1</th>\n",
       "      <td>01002</td>\n",
       "      <td>L'Abergement-de-Varey</td>\n",
       "      <td>2.721</td>\n",
       "      <td>243</td>\n",
       "      <td>24382.083333</td>\n",
       "      <td>0</td>\n",
       "      <td>26.557377</td>\n",
       "      <td>0.757662</td>\n",
       "      <td>6.944444</td>\n",
       "      <td>30.769231</td>\n",
       "      <td>9.467456</td>\n",
       "      <td>57.894737</td>\n",
       "      <td>15.789474</td>\n",
       "      <td>22.633745</td>\n",
       "      <td>55.555556</td>\n",
       "      <td>21.810700</td>\n",
       "      <td>2.057613</td>\n",
       "      <td>1.761006</td>\n",
       "      <td>0.000000</td>\n",
       "      <td>10.256410</td>\n",
       "      <td>7.692308</td>\n",
       "      <td>12.820513</td>\n",
       "      <td>20.512821</td>\n",
       "      <td>5.128205</td>\n",
       "      <td>33.333333</td>\n",
       "      <td>10.256410</td>\n",
       "    </tr>\n",
       "    <tr>\n",
       "      <th>2</th>\n",
       "      <td>01004</td>\n",
       "      <td>Ambérieu-en-Bugey</td>\n",
       "      <td>4.335</td>\n",
       "      <td>14081</td>\n",
       "      <td>19721.000000</td>\n",
       "      <td>0</td>\n",
       "      <td>572.398374</td>\n",
       "      <td>0.347315</td>\n",
       "      <td>12.038385</td>\n",
       "      <td>1.684887</td>\n",
       "      <td>9.223702</td>\n",
       "      <td>67.838444</td>\n",
       "      <td>17.950636</td>\n",
       "      <td>19.823130</td>\n",
       "      <td>57.904337</td>\n",
       "      <td>22.272533</td>\n",
       "      <td>1.516341</td>\n",
       "      <td>1.595989</td>\n",
       "      <td>0.024879</td>\n",
       "      <td>2.662394</td>\n",
       "      <td>6.939410</td>\n",
       "      <td>17.209926</td>\n",
       "      <td>16.240671</td>\n",
       "      <td>15.940930</td>\n",
       "      <td>24.740051</td>\n",
       "      <td>16.241738</td>\n",
       "    </tr>\n",
       "    <tr>\n",
       "      <th>3</th>\n",
       "      <td>01005</td>\n",
       "      <td>Ambérieux-en-Dombes</td>\n",
       "      <td>4.279</td>\n",
       "      <td>1671</td>\n",
       "      <td>23378.000000</td>\n",
       "      <td>0</td>\n",
       "      <td>104.962312</td>\n",
       "      <td>0.872154</td>\n",
       "      <td>6.348660</td>\n",
       "      <td>1.810755</td>\n",
       "      <td>4.979578</td>\n",
       "      <td>55.319149</td>\n",
       "      <td>10.638298</td>\n",
       "      <td>20.521782</td>\n",
       "      <td>58.339888</td>\n",
       "      <td>21.138330</td>\n",
       "      <td>0.985957</td>\n",
       "      <td>1.235096</td>\n",
       "      <td>0.378011</td>\n",
       "      <td>4.511481</td>\n",
       "      <td>7.896554</td>\n",
       "      <td>17.271010</td>\n",
       "      <td>18.019503</td>\n",
       "      <td>17.254154</td>\n",
       "      <td>23.429304</td>\n",
       "      <td>11.239984</td>\n",
       "    </tr>\n",
       "    <tr>\n",
       "      <th>4</th>\n",
       "      <td>01006</td>\n",
       "      <td>Ambléon</td>\n",
       "      <td>0.912</td>\n",
       "      <td>110</td>\n",
       "      <td>21660.000000</td>\n",
       "      <td>0</td>\n",
       "      <td>18.707483</td>\n",
       "      <td>-0.359722</td>\n",
       "      <td>11.111111</td>\n",
       "      <td>16.216216</td>\n",
       "      <td>12.162162</td>\n",
       "      <td>71.428571</td>\n",
       "      <td>28.571429</td>\n",
       "      <td>10.909091</td>\n",
       "      <td>54.545455</td>\n",
       "      <td>34.545455</td>\n",
       "      <td>2.727273</td>\n",
       "      <td>1.621622</td>\n",
       "      <td>0.000000</td>\n",
       "      <td>0.000000</td>\n",
       "      <td>5.555556</td>\n",
       "      <td>27.777778</td>\n",
       "      <td>16.666667</td>\n",
       "      <td>16.666667</td>\n",
       "      <td>27.777778</td>\n",
       "      <td>5.555556</td>\n",
       "    </tr>\n",
       "  </tbody>\n",
       "</table>\n",
       "</div>"
      ],
      "text/plain": [
       "  CODGEO                 Communes    APL  P16_POP  median_living_standard  \\\n",
       "0  01001  L'Abergement-Clémenciat  2.396      767            22679.000000   \n",
       "1  01002    L'Abergement-de-Varey  2.721      243            24382.083333   \n",
       "2  01004        Ambérieu-en-Bugey  4.335    14081            19721.000000   \n",
       "3  01005      Ambérieux-en-Dombes  4.279     1671            23378.000000   \n",
       "4  01006                  Ambléon  0.912      110            21660.000000   \n",
       "\n",
       "   healthcare_education_establishments  density_area  annual_pop_growth  \\\n",
       "0                                    0     48.087774          -0.335578   \n",
       "1                                    0     26.557377           0.757662   \n",
       "2                                    0    572.398374           0.347315   \n",
       "3                                    0    104.962312           0.872154   \n",
       "4                                    0     18.707483          -0.359722   \n",
       "\n",
       "   unemployment_rate  secondary_residence_rate  vacant_residence_rate  \\\n",
       "0           7.127430                  4.597701               7.471264   \n",
       "1           6.944444                 30.769231               9.467456   \n",
       "2          12.038385                  1.684887               9.223702   \n",
       "3           6.348660                  1.810755               4.979578   \n",
       "4          11.111111                 16.216216              12.162162   \n",
       "\n",
       "   active_local_business_rate  city_social_amenities_rate  0_14_pop_rate  \\\n",
       "0                   48.000000                   14.000000      20.990874   \n",
       "1                   57.894737                   15.789474      22.633745   \n",
       "2                   67.838444                   17.950636      19.823130   \n",
       "3                   55.319149                   10.638298      20.521782   \n",
       "4                   71.428571                   28.571429      10.909091   \n",
       "\n",
       "   15_59_pop_rate  60+_pop_rate  mobility_rate  average_birth_rate  CSP1_rate  \\\n",
       "0       55.149935     23.859192       2.216428            1.060116   2.479339   \n",
       "1       55.555556     21.810700       2.057613            1.761006   0.000000   \n",
       "2       57.904337     22.272533       1.516341            1.595989   0.024879   \n",
       "3       58.339888     21.138330       0.985957            1.235096   0.378011   \n",
       "4       54.545455     34.545455       2.727273            1.621622   0.000000   \n",
       "\n",
       "   CSP2_rate  CSP3_rate  CSP4_rate  CSP5_rate  CSP6_rate  CSP7_rate  CSP8_rate  \n",
       "0   3.305785  12.396694  15.702479  16.528926  20.661157  23.966942   4.958678  \n",
       "1  10.256410   7.692308  12.820513  20.512821   5.128205  33.333333  10.256410  \n",
       "2   2.662394   6.939410  17.209926  16.240671  15.940930  24.740051  16.241738  \n",
       "3   4.511481   7.896554  17.271010  18.019503  17.254154  23.429304  11.239984  \n",
       "4   0.000000   5.555556  27.777778  16.666667  16.666667  27.777778   5.555556  "
      ]
     },
     "execution_count": 2,
     "metadata": {},
     "output_type": "execute_result"
    }
   ],
   "source": [
    "df = pd.read_csv('../data/medical_desert_clean.csv', dtype={'CODGEO':'str','Communes':'str'})\n",
    "print('Shape:',df.shape)\n",
    "df.head()"
   ]
  },
  {
   "cell_type": "markdown",
   "metadata": {},
   "source": [
    "________________________\n",
    "## Preprocessing \n",
    "\n",
    "Transform the dataframe to ensure a proper classification modelling. \n",
    "\n",
    "**Preprocessing tasks:**\n",
    "- [x] Drop correlated and useless columns (Communes,P16_POP,60_pop_rate)\n",
    "- [x] Create binary column to get the dependant variable \n",
    "- [x] Change scale of median_living_standard, density_area features\n",
    "- [ ] Check balance of dataset and correct it if needed\n",
    "- [ ] Use feature engineering methods to reduce the number of columns"
   ]
  },
  {
   "cell_type": "code",
   "execution_count": 13,
   "metadata": {},
   "outputs": [],
   "source": [
    "from sklearn.preprocessing import maxabs_scale"
   ]
  },
  {
   "cell_type": "code",
   "execution_count": 4,
   "metadata": {},
   "outputs": [
    {
     "name": "stdout",
     "output_type": "stream",
     "text": [
      "(34989, 23)\n"
     ]
    }
   ],
   "source": [
    "# Dropping correlated and useless columns\n",
    "\n",
    "df.drop(columns=['Communes','P16_POP','60+_pop_rate'], inplace = True)\n",
    "print(df.shape)"
   ]
  },
  {
   "cell_type": "code",
   "execution_count": 8,
   "metadata": {},
   "outputs": [
    {
     "name": "stdout",
     "output_type": "stream",
     "text": [
      "(34989, 23)\n"
     ]
    }
   ],
   "source": [
    "# Creating binary column\n",
    "\n",
    "df['medical_desert'] = df.APL.apply(lambda x: 0 if x>2.5 else 1)\n",
    "df.drop('APL',axis=1,inplace=True)\n",
    "print(df.shape)"
   ]
  },
  {
   "cell_type": "code",
   "execution_count": 18,
   "metadata": {},
   "outputs": [],
   "source": [
    "# Performing scaling transformation depending in the type of data\n",
    "\n",
    "df.median_living_standard = df.median_living_standard/1000\n",
    "\n",
    "df.density_area = maxabs_scale(df.density_area) # Using maxabs_scale because it does not break the sparsity"
   ]
  },
  {
   "cell_type": "code",
   "execution_count": 19,
   "metadata": {},
   "outputs": [
    {
     "data": {
      "text/plain": [
       "0    24870\n",
       "1    10119\n",
       "Name: medical_desert, dtype: int64"
      ]
     },
     "execution_count": 19,
     "metadata": {},
     "output_type": "execute_result"
    }
   ],
   "source": [
    "df.medical_desert.value_counts()"
   ]
  },
  {
   "cell_type": "code",
   "execution_count": null,
   "metadata": {},
   "outputs": [],
   "source": []
  }
 ],
 "metadata": {
  "kernelspec": {
   "display_name": "Python 3",
   "language": "python",
   "name": "python3"
  },
  "language_info": {
   "codemirror_mode": {
    "name": "ipython",
    "version": 3
   },
   "file_extension": ".py",
   "mimetype": "text/x-python",
   "name": "python",
   "nbconvert_exporter": "python",
   "pygments_lexer": "ipython3",
   "version": "3.7.4"
  }
 },
 "nbformat": 4,
 "nbformat_minor": 2
}
