{
 "cells": [
  {
   "cell_type": "markdown",
   "metadata": {},
   "source": [
    "# Medical Desert\n",
    "\n",
    "According to a [report from DREES](https://drees.solidarites-sante.gouv.fr/IMG/pdf/er1144.pdf) on doctors density in France, the ratio of population living in a medical desert is growing from 3.8% to 5.7%.\n",
    "\n",
    "Some people have to drive many kilometers to find a doctor which can be hard for some of them having a limited way of commute (old people, people without any driving license). Also it would also mean that it could take more time to get a consultation from the moment you are identified as sick, and so life can depend on it. \n",
    "\n",
    "**Can we predict the medical desert of an area?**\n",
    "\n",
    "Sub-questions:\n",
    "- What is a medical desert? How is defined a medical desert?\n",
    "- What is the proportion of medical desert in France? \n",
    "- Is there any area with an over-density of doctors?\n",
    "- What factors would impact the lack of doctors in an area? \n",
    "- Can an area improve the situation by playing on these factors? \n",
    "- What could be the solution to improve the situation of medical desert?\n",
    "\n",
    "DREES identify medical desert through the APL indicator (Accessibilité Potentielle Localisée) which gives the potential number of consultation per resident per year for a given area. If the area has the indicator under 2.5C/r/y, it is considered as medical desert. \n",
    "\n",
    "### Project limitation\n",
    "\n",
    "So my target would be the APL indicator. \n",
    "\n",
    "Altough the medical desert can be applied for any type of doctors (general practitioner, specialists, etc.), for this project we will only talk about general practitioners because the target is based on this type of doctors. \n",
    "\n",
    "(TO BE CHECKED) I also may reduce to liberal practitioners because people tends to see them unstead of going to the hospital, expect for urgence. \n",
    "\n",
    "Considering that liberal doctors are free to move wherever they want, the quality of life or the ecominic state of an area can impact much the area of practicing. \n",
    "\n",
    "Assumptions for features impacting medical desert in a given area (city):\n",
    "- [x] Population / area density \n",
    "- [x] Population growth\n",
    "- [ ] Population projection and growth projection\n",
    "- [x] Population average age\n",
    "- [ ] Birth rate\n",
    "- [x] Socio-Professional Category\n",
    "- [x] Level of poverty\n",
    "- [x] Unemployement rate\n",
    "- [x] Number of medical infrastructures\n",
    "- [x] Level of medical education\n",
    "- [x] Level of city amenities / investment in city amenities\n",
    "- [ ] Expense in healthcare (per resident in a city)\n",
    "- [ ] Average temperature\n",
    "- [x] Number of doctors\n",
    "- [ ] Doctors average age\n",
    "\n",
    "Data Sources: \n",
    "- APL: [data.drees.sante.gouv.fr](http://www.data.drees.sante.gouv.fr/ReportFolders/reportFolders.aspx)\n",
    "- Number of doctors: web-scraping doctolib\n",
    "- Socio-Professional Category: [INSEE - Évolution et structure de la population en 2016](https://www.insee.fr/fr/statistiques/4171334?sommaire=4171351#consulter)\n",
    "- Level of poverty, Population average age, area density, Level of city amenities, Unemployement rate: [INSEE - Base comparateur de territoires](https://www.insee.fr/fr/statistiques/2521169#consulter)\n",
    "- Level of medical education: [INSEE - Base permanente des équipements (BPE)](https://www.insee.fr/fr/statistiques/3568638?sommaire=3568656#consulter)"
   ]
  },
  {
   "cell_type": "code",
   "execution_count": null,
   "metadata": {},
   "outputs": [],
   "source": []
  }
 ],
 "metadata": {
  "kernelspec": {
   "display_name": "Python 3",
   "language": "python",
   "name": "python3"
  },
  "language_info": {
   "codemirror_mode": {
    "name": "ipython",
    "version": 3
   },
   "file_extension": ".py",
   "mimetype": "text/x-python",
   "name": "python",
   "nbconvert_exporter": "python",
   "pygments_lexer": "ipython3",
   "version": "3.7.4"
  }
 },
 "nbformat": 4,
 "nbformat_minor": 2
}
