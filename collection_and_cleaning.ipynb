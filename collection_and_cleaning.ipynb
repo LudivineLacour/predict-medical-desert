{
 "cells": [
  {
   "cell_type": "markdown",
   "metadata": {},
   "source": [
    "# Data collection and cleaning\n",
    "\n",
    "**Goal:** gather the different data sources to get a dataset including around 10 features and at least 1000 entries\n",
    "\n",
    "**Data Preparation tasks:**\n",
    "- [x] Agreggation of data sources and cleaning of columns names\n",
    "- [x] Merging data sources\n",
    "- [x] Checking missing values and interpolation\n",
    "- [x] Creating calculated columns\n",
    "- [ ] Add web-scraping of doctolib (?)"
   ]
  },
  {
   "cell_type": "code",
   "execution_count": null,
   "metadata": {},
   "outputs": [],
   "source": [
    "import pandas as pd\n",
    "import numpy as np\n",
    "\n",
    "pd.set_option('max_columns',35)"
   ]
  },
  {
   "cell_type": "code",
   "execution_count": null,
   "metadata": {},
   "outputs": [],
   "source": [
    "# Reading the dataset\n",
    "apl = pd.read_excel('raw_data/apl-drees.xlsx',sheet_name='APL_2018',header=7, index_col=None)\n",
    "print(\"Shape:\",apl.shape)\n",
    "apl.head()"
   ]
  },
  {
   "cell_type": "code",
   "execution_count": null,
   "metadata": {},
   "outputs": [],
   "source": [
    "# Dropping first row and last 2 columns that we won't use\n",
    "apl.drop(0,axis=0, inplace=True)\n",
    "apl.drop(apl.iloc[:,-2:],axis=1, inplace=True)"
   ]
  },
  {
   "cell_type": "code",
   "execution_count": null,
   "metadata": {},
   "outputs": [],
   "source": [
    "# Cleaning of columns names to make it easier to work\n",
    "apl = apl.rename(columns={'Code commune INSEE':'CODGEO','APL aux médecins généralistes':'APL'})\n",
    "\n",
    "# Converting dtype of CODGEO to ensure future merge\n",
    "apl.CODGEO = apl.CODGEO.astype(str)\n",
    "apl = apl.convert_dtypes()\n",
    "apl.info()"
   ]
  },
  {
   "cell_type": "markdown",
   "metadata": {},
   "source": [
    "### Secondary data source: communes comparateur\n",
    "\n",
    "Features to get from this data source: \n",
    "- Population\n",
    "- Density area (hab/Km2 - Population/Superficie)\n",
    "- Population growth\n",
    "- Mediane Niveau de vie\n",
    "- Unemployement Rate\n",
    "- Part of secondary residences (%)\n",
    "- Part of vacant residences (%)\n",
    "- Part of city amenities (commerces, services, transports - %)\n",
    "- Part of city amenities (administration, social, health, education - %)"
   ]
  },
  {
   "cell_type": "code",
   "execution_count": null,
   "metadata": {},
   "outputs": [],
   "source": [
    "# Reading dataset\n",
    "com = pd.read_excel('raw_data/base_cc_comparateur.xls',sheet_name='COM',header=5)\n",
    "print(\"Shape:\",com.shape)\n",
    "com.head()"
   ]
  },
  {
   "cell_type": "markdown",
   "metadata": {},
   "source": [
    "Information on selected columns:\n",
    "- P16_POP\t    Population en 2016\n",
    "- P11_POP\t    Population en 2011\n",
    "- SUPERF\t    Superficie (en km2)\n",
    "- NAIS1116\t    Nombre de naissances entre le 01/01/2011 et le 01/01/2016\n",
    "- P16_LOG\t    Nombre de logements en 2016\n",
    "- P16_RSECOCC\tRés secondaires et logts occasionnels en 2016\n",
    "- P16_LOGVAC\tLogements vacants en 2016\n",
    "- MED16\t        Médiane du niveau vie en 2016\n",
    "- P16_POP1564\tNombre de personnes de 15 à 64 ans en 2016\n",
    "- P16_CHOM1564\tNombre de chômeurs de 15 à 64 ans en 2016\n",
    "- ETTOT15\t    Total des établissements actifs au 31 décembre 2015\n",
    "- ETGU15\t    Établissements actifs du commerce, transports et services divers au 31/12/2015\n",
    "- ETOQ15\t    Ets actifs de l'administration publique au 31/12/2015"
   ]
  },
  {
   "cell_type": "code",
   "execution_count": null,
   "metadata": {},
   "outputs": [],
   "source": [
    "# Selecting the interesting columns\n",
    "sub_com = com[['CODGEO','P16_POP','SUPERF','P11_POP','P16_CHOM1564','P16_POP1564','P16_RSECOCC','P16_LOG',\n",
    "     'P16_LOGVAC','ETGU15','ETOQ15','ETTOT15','MED16','NAIS1116']]\n",
    "\n",
    "# Converting dtypes to ensure matching between CODGEO columns - dtype of CODGEO should be string\n",
    "sub_com = sub_com.convert_dtypes()\n",
    "sub_com.info()"
   ]
  },
  {
   "cell_type": "code",
   "execution_count": null,
   "metadata": {},
   "outputs": [],
   "source": [
    "# Reading dataset with sheetname for borough\n",
    "arr = pd.read_excel('raw_data/base_cc_comparateur.xls',sheet_name='ARM',header=5)\n",
    "print(\"Shape:\",arr.shape)\n",
    "arr.head()"
   ]
  },
  {
   "cell_type": "code",
   "execution_count": null,
   "metadata": {},
   "outputs": [],
   "source": [
    "# Selecting the interesting columns\n",
    "sub_arr = arr[['CODGEO','P16_POP','SUPERF','P11_POP','P16_CHOM1564','P16_POP1564','P16_RSECOCC','P16_LOG',\n",
    "     'P16_LOGVAC','ETGU15','ETOQ15','ETTOT15','MED16','NAIS1116']]\n",
    "\n",
    "sub_arr.CODGEO = sub_arr.CODGEO.astype(str)\n",
    "\n",
    "# Converting dtypes to ensure matching between CODGEO columns - dtype of CODGEO should be string\n",
    "sub_arr = sub_arr.convert_dtypes()\n",
    "sub_arr.info()"
   ]
  },
  {
   "cell_type": "code",
   "execution_count": null,
   "metadata": {},
   "outputs": [],
   "source": [
    "# Concatenate both dataframes before merging\n",
    "sub_com_arr = pd.concat([sub_com, sub_arr])"
   ]
  },
  {
   "cell_type": "code",
   "execution_count": null,
   "metadata": {},
   "outputs": [],
   "source": [
    "# Merging the dataframes\n",
    "df_merged = pd.merge(apl,sub_com_arr,'left', on='CODGEO')\n",
    "print(df_merged.shape)\n",
    "df_merged.head()"
   ]
  },
  {
   "cell_type": "markdown",
   "metadata": {},
   "source": [
    "### Secondary data source: evolution structures\n",
    "\n",
    "Features to get from this datasource: \n",
    "- Repartition of population age\n",
    "- Mobility_rate (% of population located 1 year ago)\n",
    "- Socio-Professional Category"
   ]
  },
  {
   "cell_type": "code",
   "execution_count": null,
   "metadata": {},
   "outputs": [],
   "source": [
    "# Reading dataset\n",
    "evol = pd.read_csv('raw_data/base-cc-evol-struct-pop-2016-csv/base-cc-evol-struct-pop-2016.CSV',sep=';')\n",
    "print(\"Shape:\",evol.shape)\n",
    "evol.head()"
   ]
  },
  {
   "cell_type": "markdown",
   "metadata": {},
   "source": [
    "Information on selected columns:\n",
    "- P16_POP01P\tNombre de personnes de 1 an ou plus localisée 1 an auparavant en 2016\n",
    "- P16_POP0014\tPop 0-14 ans en 2016\t\n",
    "- P16_POP1529\tPop 15-29 ans en 2016\t\t\n",
    "- P16_POP3044\tPop 30-44 ans en 2016\t\t\n",
    "- P16_POP4559\tPop 45-59 ans en 2016\t\t\n",
    "- P16_POP6074\tPop 60-74 ans en 2016\t\n",
    "- P16_POP7589\tPop 75-89 ans en 2016\n",
    "- P16_POP90P\tPop 90 ans ou plus en 2016\n",
    "- C16_POP15P\tPop 15 ans ou plus en 2016\t\t\n",
    "- C16_POP15P_CS1\tPop 15 ans ou plus Agriculteurs exploitants en 2016\n",
    "- C16_POP15P_CS2\tPop 15 ans ou plus Artisans, Comm., Chefs entr. en 2016\n",
    "- C16_POP15P_CS3\tPop 15 ans ou plus Cadres, Prof. intel. sup. en 2016\n",
    "- C16_POP15P_CS4\tPop 15 ans ou plus Prof. intermédiaires  en 2016\n",
    "- C16_POP15P_CS5\tPop 15 ans ou plus Employés en 2016\n",
    "- C16_POP15P_CS6\tPop 15 ans ou plus Ouvriers en 2016\n",
    "- C16_POP15P_CS7\tPop 15 ans ou plus Retraités en 2016\n",
    "- C16_POP15P_CS8\tPop 15 ans ou plus Autres sans activité professionnelle en 2016"
   ]
  },
  {
   "cell_type": "code",
   "execution_count": null,
   "metadata": {},
   "outputs": [],
   "source": [
    "# Selecting the interesting columns\n",
    "sub_evol = evol[['CODGEO','P16_POP01P']+list(evol.columns[2:9])+list(evol.columns[51:60])]\n",
    "\n",
    "# Correcting CODGEO that have only 4 number by adding 0 before\n",
    "sub_evol.CODGEO = sub_evol.CODGEO.apply(lambda x: '0'+str(x) if len(str(x))==4 else x).astype(str).copy()\n",
    "\n",
    "# Converting dtypes to ensure matching between CODGEO columns - dtype of CODGEO should be string\n",
    "sub_evol = sub_evol.convert_dtypes()\n",
    "sub_evol.info()"
   ]
  },
  {
   "cell_type": "code",
   "execution_count": null,
   "metadata": {},
   "outputs": [],
   "source": [
    "# Merging the dataframes\n",
    "df_merged_2 = pd.merge(df_merged,sub_evol,'left', on='CODGEO')\n",
    "print(df_merged_2.shape)\n",
    "df_merged_2.head()"
   ]
  },
  {
   "cell_type": "markdown",
   "metadata": {},
   "source": [
    "### Secondary data source: equipements\n",
    "\n",
    "Features to get from this datasource: \n",
    "- Level of medical education = number of health education establishment\n",
    "\n",
    "(other possible features: Number of leisure establishments, Number of healthcare establishments)"
   ]
  },
  {
   "cell_type": "code",
   "execution_count": null,
   "metadata": {},
   "outputs": [],
   "source": [
    "# Reading the dataset\n",
    "eqmt = pd.read_csv('raw_data/bpe18_ensemble_csv/bpe18_ensemble.csv',sep=';')\n",
    "print(\"Shape:\",eqmt.shape)\n",
    "eqmt.head()"
   ]
  },
  {
   "cell_type": "code",
   "execution_count": null,
   "metadata": {},
   "outputs": [],
   "source": [
    "# Aggregating number of health education establishements\n",
    "education_health = eqmt[eqmt.TYPEQU=='C402'].groupby('DEPCOM').NB_EQUIP.agg('sum').reset_index()\n",
    "\n",
    "# Renaming DEPCOM as CODGEO to match with merge dataframe\n",
    "education_health = education_health.rename(columns={'DEPCOM':'CODGEO'})\n",
    "\n",
    "# Cleaning codes to add 0 when code is only 4 number\n",
    "education_health.CODGEO = education_health.CODGEO.apply(lambda x: '0'+str(x) if len(str(x))==4 else x).astype(str).copy()\n",
    "\n",
    "# Converting dtypes to ensure matching between CODGEO columns - dtype of CODGEO should be string\n",
    "education_health = education_health.convert_dtypes()\n",
    "education_health.info()"
   ]
  },
  {
   "cell_type": "code",
   "execution_count": null,
   "metadata": {},
   "outputs": [],
   "source": [
    "# Merging the dataframes \n",
    "df_merged_3 = pd.merge(df_merged_2, education_health,'left', on='CODGEO')\n",
    "print(df_merged_3.shape)\n",
    "df_merged_3.head()"
   ]
  },
  {
   "cell_type": "code",
   "execution_count": null,
   "metadata": {},
   "outputs": [],
   "source": [
    "# Filling nan values of Number of health education establishments because it means there isn't any.\n",
    "df_merged_3.NB_EQUIP = df_merged_3.NB_EQUIP.fillna(0)"
   ]
  },
  {
   "cell_type": "code",
   "execution_count": null,
   "metadata": {},
   "outputs": [],
   "source": [
    "df_merged_3.info()"
   ]
  },
  {
   "cell_type": "code",
   "execution_count": null,
   "metadata": {},
   "outputs": [],
   "source": [
    "# Saving the dataframe as it is if I want to retreive raw data\n",
    "df_merged_3.to_csv('data/medical_desert_raw_data.csv',index=False)"
   ]
  },
  {
   "cell_type": "markdown",
   "metadata": {},
   "source": [
    "________________________\n",
    "## Cleaning missing values"
   ]
  },
  {
   "cell_type": "code",
   "execution_count": null,
   "metadata": {},
   "outputs": [],
   "source": [
    "df_clean = df_merged_3.copy()"
   ]
  },
  {
   "cell_type": "code",
   "execution_count": null,
   "metadata": {},
   "outputs": [],
   "source": [
    "df_clean.isna().sum()"
   ]
  },
  {
   "cell_type": "code",
   "execution_count": null,
   "metadata": {},
   "outputs": [],
   "source": [
    "mis_value = df_clean[df_clean.MED16.isna()]\n",
    "mis_value"
   ]
  },
  {
   "cell_type": "code",
   "execution_count": null,
   "metadata": {},
   "outputs": [],
   "source": [
    "df_clean[(df_clean.CODGEO.str.contains(\"^97\",regex=True))&(df_clean.P16_POP<1000)]"
   ]
  },
  {
   "cell_type": "code",
   "execution_count": null,
   "metadata": {},
   "outputs": [],
   "source": [
    "# Creating a function to return similar city within the same department and having same population\n",
    "# Coefficient attribute allow to get an higher range of similar city, especially for small city\n",
    "import re\n",
    "\n",
    "def get_similar(codgeo, pop, coef):\n",
    "    \n",
    "    global df_clean\n",
    "    \n",
    "    return df_clean[(df_clean.CODGEO.str.contains(f\"^{codgeo[:2]}\",regex=True))&(df_clean.P16_POP<(pop+coef))]\n",
    "                           \n",
    "# Testing the function \n",
    "mis_value.apply(lambda x: get_similar(x['CODGEO'],x['P16_POP'],10).MED16.median(),axis=1)\n",
    "                           "
   ]
  },
  {
   "cell_type": "code",
   "execution_count": null,
   "metadata": {},
   "outputs": [],
   "source": [
    "# Filling missing values with median of similar city - WARNING: Takes time to run\n",
    "mis_value = df_clean[df_clean.MED16.isna()]\n",
    "\n",
    "df_clean.MED16 = df_clean.MED16.fillna(mis_value.apply(lambda x: get_similar(x['CODGEO'],x['P16_POP'],200).MED16.median(),axis=1))\n",
    "\n"
   ]
  },
  {
   "cell_type": "code",
   "execution_count": null,
   "metadata": {},
   "outputs": [],
   "source": [
    "# Doing it again for the 3 last rows by increasing the coefficient of similarity \n",
    "# (not enough values with the previous coef)\n",
    "mis_value = df_clean[df_clean.MED16.isna()]\n",
    "\n",
    "df_clean.MED16 = df_clean.MED16.fillna(mis_value.apply(lambda x: get_similar(x['CODGEO'],x['P16_POP'],1000).MED16.median(),axis=1))"
   ]
  },
  {
   "cell_type": "code",
   "execution_count": null,
   "metadata": {},
   "outputs": [],
   "source": [
    "# Filling the last 3 missing columns by getting the mode of similar city\n",
    "\n",
    "missing_col = df_clean.iloc[29876][df_clean.iloc[29876].isna()].index\n",
    "\n",
    "for col in missing_col:\n",
    "        df_clean.loc[29876,col] = get_similar(df_clean.iloc[29876]['CODGEO'],\n",
    "                                              df_clean.iloc[29876]['P16_POP'],200)[col].mode()[0]\n",
    "                              "
   ]
  },
  {
   "cell_type": "code",
   "execution_count": null,
   "metadata": {},
   "outputs": [],
   "source": [
    "df_clean.isna().sum()"
   ]
  },
  {
   "cell_type": "markdown",
   "metadata": {},
   "source": [
    "______________________________________\n",
    "## Calculate new columns\n",
    "\n",
    "The objective is to create calculated columns based on the data retrieved from the different sources. It will allow to add relative type of data (percentage) to make them more relevant to compare. "
   ]
  },
  {
   "cell_type": "code",
   "execution_count": null,
   "metadata": {},
   "outputs": [],
   "source": [
    "new_df = df_clean.copy()"
   ]
  },
  {
   "cell_type": "code",
   "execution_count": null,
   "metadata": {},
   "outputs": [],
   "source": [
    "# Calculated metrics\n",
    "new_df['density_area'] = new_df.P16_POP / new_df.SUPERF\n",
    "new_df['annual_pop_growth'] = ((new_df.P16_POP/new_df.P11_POP)**(1/(2016-2011))-1)*100\n",
    "new_df['unemployment_rate'] = (new_df.P16_CHOM1564/new_df.P16_POP1564)*100\n",
    "new_df['secondary_residence_rate'] = (new_df.P16_RSECOCC/new_df.P16_LOG)*100\n",
    "new_df['vacant_residence_rate'] = (new_df.P16_LOGVAC/new_df.P16_LOG)*100\n",
    "new_df['active_local_business_rate'] = (new_df.ETGU15/new_df.ETTOT15)*100\n",
    "new_df['city_social_amenities_rate'] = (new_df.ETOQ15/new_df.ETTOT15)*100\n",
    "new_df['0_14_pop_rate'] = (new_df.P16_POP0014/new_df.P16_POP)*100\n",
    "new_df['15_59_pop_rate'] = ((new_df.P16_POP1529+new_df.P16_POP3044+new_df.P16_POP4559)/new_df.P16_POP)*100\n",
    "new_df['60+_pop_rate'] = ((new_df.P16_POP6074+new_df.P16_POP7589+new_df.P16_POP90P)/new_df.P16_POP)*100\n",
    "new_df['mobility_rate'] = ((new_df.P16_POP-new_df.P16_POP01P)/new_df.P16_POP)*100\n",
    "new_df['average_birth_rate'] = (new_df.NAIS1116/(2016-2011))/(new_df[['P16_POP','P11_POP']].mean(axis=1))*100\n",
    "\n",
    "for i in range(1,9): \n",
    "    new_df[f'CSP{i}_rate'] = ((new_df[f'C16_POP15P_CS{i}']/new_df.C16_POP15P)*100)\n",
    "\n",
    "\n",
    "new_df = new_df.rename(columns={'MED16':'median_living_standard','NB_EQUIP':'healthcare_education_establishments'})"
   ]
  },
  {
   "cell_type": "code",
   "execution_count": null,
   "metadata": {},
   "outputs": [],
   "source": [
    "new_df = new_df.fillna(0)\n",
    "#new_df.isna().sum()"
   ]
  },
  {
   "cell_type": "code",
   "execution_count": null,
   "metadata": {},
   "outputs": [],
   "source": [
    "final_df = new_df[list(new_df.columns[:3])+['median_living_standard']+list(new_df.columns[-21:])]\n",
    "print(final_df.shape)\n",
    "final_df.head()"
   ]
  },
  {
   "cell_type": "code",
   "execution_count": null,
   "metadata": {},
   "outputs": [],
   "source": [
    "# Saving the clean dataframe\n",
    "final_df.to_csv('data/medical_desert_clean.csv',index=False)"
   ]
  },
  {
   "cell_type": "code",
   "execution_count": null,
   "metadata": {},
   "outputs": [],
   "source": []
  }
 ],
 "metadata": {
  "kernelspec": {
   "display_name": "Python 3",
   "language": "python",
   "name": "python3"
  },
  "language_info": {
   "codemirror_mode": {
    "name": "ipython",
    "version": 3
   },
   "file_extension": ".py",
   "mimetype": "text/x-python",
   "name": "python",
   "nbconvert_exporter": "python",
   "pygments_lexer": "ipython3",
   "version": "3.7.4"
  }
 },
 "nbformat": 4,
 "nbformat_minor": 2
}
